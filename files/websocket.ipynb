{
 "cells": [
  {
   "cell_type": "code",
   "execution_count": 1,
   "metadata": {},
   "outputs": [
    {
     "name": "stdout",
     "output_type": "stream",
     "text": [
      "Requirement already satisfied: websockets in c:\\users\\admin\\anaconda3\\lib\\site-packages (7.0)\n"
     ]
    }
   ],
   "source": [
    "!pip install websockets "
   ]
  },
  {
   "cell_type": "code",
   "execution_count": 1,
   "metadata": {},
   "outputs": [
    {
     "name": "stdout",
     "output_type": "stream",
     "text": [
      "Collecting nest_asyncio\n",
      "  Downloading https://files.pythonhosted.org/packages/62/18/4c6a895c925e8822e72535d774861e9ca07089c4b938ed20002b1aaab66a/nest_asyncio-1.0.0-py3-none-any.whl\n",
      "Installing collected packages: nest-asyncio\n",
      "Successfully installed nest-asyncio-1.0.0\n"
     ]
    },
    {
     "name": "stderr",
     "output_type": "stream",
     "text": [
      "  WARNING: Retrying (Retry(total=4, connect=None, read=None, redirect=None, status=None)) after connection broken by 'NewConnectionError('<pip._vendor.urllib3.connection.VerifiedHTTPSConnection object at 0x000001E5F1883898>: Failed to establish a new connection: [Errno 11001] getaddrinfo failed')': /simple/nest-asyncio/\n"
     ]
    }
   ],
   "source": [
    "!pip install nest_asyncio"
   ]
  },
  {
   "cell_type": "code",
   "execution_count": 4,
   "metadata": {},
   "outputs": [
    {
     "name": "stdout",
     "output_type": "stream",
     "text": [
      "senddata\n",
      "< {\r\n",
      " qty:rand 1+til 4;\r\n",
      " total:rand 30+til 971;\r\n",
      " tip:rand 10+til 91;\r\n",
      " payType:rand `cash`tab`visa`mastercard`bitcoin;\r\n",
      " name:rand `Ben`Jarrod`Vijay`Aziz;\r\n",
      " spent:rand 1+til 151;\r\n",
      " yr:rand 2012+til 5;\r\n",
      " hs:key hdls;\r\n",
      " res:`qty`total`tip`payType`Name`Spent`Year`x!(qty;total;tip;payType;name;spe..\r\n",
      " if[not ()~ hs;{[h;r](neg h).j.j r}[;res] each hs]}\r\n",
      "\n"
     ]
    }
   ],
   "source": [
    "import asyncio\n",
    "import websockets\n",
    "\n",
    "async def hello():\n",
    "    async with websockets.connect(\n",
    "            'ws://localhost:8001') as websocket:\n",
    "        \n",
    "        await websocket.send(\"senddata\")\n",
    "        print(f\"senddata\")\n",
    "\n",
    "        greeting = await websocket.recv()\n",
    "        print(f\"< {greeting}\")\n",
    "\n",
    "asyncio.get_event_loop().run_until_complete(hello())"
   ]
  },
  {
   "cell_type": "code",
   "execution_count": 6,
   "metadata": {},
   "outputs": [
    {
     "name": "stdout",
     "output_type": "stream",
     "text": [
      "{\"qty\":1,\"total\":328,\"tip\":29,\"payType\":\"bitcoin\",\"Name\":\"Aziz\",\"Spent\":2,\"Year\":2012,\"x\":\"02:40:27.174\"}\n",
      "{\"qty\":1,\"total\":739,\"tip\":74,\"payType\":\"cash\",\"Name\":\"Vijay\",\"Spent\":56,\"Year\":2015,\"x\":\"02:40:27.675\"}\n",
      "{\"qty\":1,\"total\":588,\"tip\":62,\"payType\":\"visa\",\"Name\":\"Vijay\",\"Spent\":147,\"Year\":2012,\"x\":\"02:40:28.175\"}\n",
      "{\"qty\":4,\"total\":984,\"tip\":27,\"payType\":\"mastercard\",\"Name\":\"Ben\",\"Spent\":16,\"Year\":2016,\"x\":\"02:40:28.674\"}\n",
      "{\"qty\":3,\"total\":498,\"tip\":92,\"payType\":\"visa\",\"Name\":\"Vijay\",\"Spent\":131,\"Year\":2012,\"x\":\"02:40:29.175\"}\n",
      "{\"qty\":2,\"total\":35,\"tip\":68,\"payType\":\"mastercard\",\"Name\":\"Ben\",\"Spent\":83,\"Year\":2013,\"x\":\"02:40:29.675\"}\n",
      "{\"qty\":1,\"total\":111,\"tip\":10,\"payType\":\"mastercard\",\"Name\":\"Aziz\",\"Spent\":103,\"Year\":2012,\"x\":\"02:40:30.175\"}\n",
      "{\"qty\":3,\"total\":570,\"tip\":22,\"payType\":\"cash\",\"Name\":\"Ben\",\"Spent\":62,\"Year\":2013,\"x\":\"02:40:30.675\"}\n",
      "{\"qty\":3,\"total\":62,\"tip\":53,\"payType\":\"tab\",\"Name\":\"Ben\",\"Spent\":82,\"Year\":2015,\"x\":\"02:40:31.174\"}\n",
      "{\"qty\":2,\"total\":909,\"tip\":85,\"payType\":\"tab\",\"Name\":\"Aziz\",\"Spent\":63,\"Year\":2014,\"x\":\"02:40:31.675\"}\n",
      "{\"qty\":1,\"total\":248,\"tip\":73,\"payType\":\"bitcoin\",\"Name\":\"Aziz\",\"Spent\":65,\"Year\":2016,\"x\":\"02:40:32.174\"}\n",
      "{\"qty\":2,\"total\":329,\"tip\":71,\"payType\":\"mastercard\",\"Name\":\"Ben\",\"Spent\":85,\"Year\":2013,\"x\":\"02:40:32.675\"}\n",
      "{\"qty\":4,\"total\":518,\"tip\":10,\"payType\":\"mastercard\",\"Name\":\"Jarrod\",\"Spent\":26,\"Year\":2013,\"x\":\"02:40:33.175\"}\n",
      "{\"qty\":1,\"total\":932,\"tip\":48,\"payType\":\"cash\",\"Name\":\"Jarrod\",\"Spent\":138,\"Year\":2013,\"x\":\"02:40:33.675\"}\n",
      "{\"qty\":3,\"total\":221,\"tip\":84,\"payType\":\"bitcoin\",\"Name\":\"Jarrod\",\"Spent\":129,\"Year\":2014,\"x\":\"02:40:34.174\"}\n",
      "{\"qty\":4,\"total\":604,\"tip\":22,\"payType\":\"bitcoin\",\"Name\":\"Jarrod\",\"Spent\":117,\"Year\":2016,\"x\":\"02:40:34.675\"}\n",
      "{\"qty\":1,\"total\":860,\"tip\":17,\"payType\":\"visa\",\"Name\":\"Ben\",\"Spent\":90,\"Year\":2013,\"x\":\"02:40:35.175\"}\n",
      "{\"qty\":4,\"total\":257,\"tip\":13,\"payType\":\"visa\",\"Name\":\"Vijay\",\"Spent\":127,\"Year\":2014,\"x\":\"02:40:35.675\"}\n",
      "{\"qty\":4,\"total\":186,\"tip\":27,\"payType\":\"mastercard\",\"Name\":\"Aziz\",\"Spent\":52,\"Year\":2013,\"x\":\"02:40:36.175\"}\n",
      "{\"qty\":1,\"total\":894,\"tip\":71,\"payType\":\"bitcoin\",\"Name\":\"Vijay\",\"Spent\":40,\"Year\":2016,\"x\":\"02:40:36.674\"}\n",
      "{\"qty\":3,\"total\":794,\"tip\":93,\"payType\":\"bitcoin\",\"Name\":\"Ben\",\"Spent\":5,\"Year\":2012,\"x\":\"02:40:37.175\"}\n",
      "{\"qty\":1,\"total\":188,\"tip\":41,\"payType\":\"cash\",\"Name\":\"Jarrod\",\"Spent\":124,\"Year\":2013,\"x\":\"02:40:37.675\"}\n",
      "{\"qty\":3,\"total\":666,\"tip\":60,\"payType\":\"cash\",\"Name\":\"Aziz\",\"Spent\":142,\"Year\":2015,\"x\":\"02:40:38.175\"}\n",
      "{\"qty\":1,\"total\":612,\"tip\":13,\"payType\":\"mastercard\",\"Name\":\"Ben\",\"Spent\":141,\"Year\":2015,\"x\":\"02:40:38.675\"}\n",
      "{\"qty\":2,\"total\":176,\"tip\":47,\"payType\":\"tab\",\"Name\":\"Aziz\",\"Spent\":76,\"Year\":2015,\"x\":\"02:40:39.175\"}\n",
      "{\"qty\":3,\"total\":642,\"tip\":27,\"payType\":\"mastercard\",\"Name\":\"Jarrod\",\"Spent\":136,\"Year\":2013,\"x\":\"02:40:39.675\"}\n",
      "{\"qty\":2,\"total\":281,\"tip\":95,\"payType\":\"visa\",\"Name\":\"Aziz\",\"Spent\":72,\"Year\":2016,\"x\":\"02:40:40.175\"}\n",
      "{\"qty\":3,\"total\":205,\"tip\":14,\"payType\":\"tab\",\"Name\":\"Vijay\",\"Spent\":106,\"Year\":2015,\"x\":\"02:40:40.675\"}\n",
      "{\"qty\":1,\"total\":642,\"tip\":14,\"payType\":\"mastercard\",\"Name\":\"Vijay\",\"Spent\":102,\"Year\":2014,\"x\":\"02:40:41.174\"}\n",
      "{\"qty\":3,\"total\":779,\"tip\":32,\"payType\":\"cash\",\"Name\":\"Jarrod\",\"Spent\":53,\"Year\":2015,\"x\":\"02:40:41.675\"}\n",
      "{\"qty\":4,\"total\":843,\"tip\":80,\"payType\":\"cash\",\"Name\":\"Jarrod\",\"Spent\":113,\"Year\":2016,\"x\":\"02:40:42.175\"}\n",
      "{\"qty\":4,\"total\":59,\"tip\":64,\"payType\":\"mastercard\",\"Name\":\"Ben\",\"Spent\":15,\"Year\":2015,\"x\":\"02:40:42.675\"}\n",
      "{\"qty\":2,\"total\":489,\"tip\":72,\"payType\":\"visa\",\"Name\":\"Jarrod\",\"Spent\":24,\"Year\":2014,\"x\":\"02:40:43.174\"}\n",
      "{\"qty\":2,\"total\":445,\"tip\":46,\"payType\":\"bitcoin\",\"Name\":\"Jarrod\",\"Spent\":80,\"Year\":2013,\"x\":\"02:40:43.675\"}\n",
      "{\"qty\":4,\"total\":224,\"tip\":91,\"payType\":\"mastercard\",\"Name\":\"Aziz\",\"Spent\":29,\"Year\":2015,\"x\":\"02:40:44.174\"}\n",
      "{\"qty\":2,\"total\":373,\"tip\":92,\"payType\":\"cash\",\"Name\":\"Jarrod\",\"Spent\":41,\"Year\":2012,\"x\":\"02:40:44.674\"}\n",
      "{\"qty\":2,\"total\":790,\"tip\":35,\"payType\":\"mastercard\",\"Name\":\"Ben\",\"Spent\":91,\"Year\":2016,\"x\":\"02:40:45.175\"}\n",
      "{\"qty\":1,\"total\":258,\"tip\":37,\"payType\":\"mastercard\",\"Name\":\"Jarrod\",\"Spent\":14,\"Year\":2012,\"x\":\"02:40:45.674\"}\n",
      "{\"qty\":2,\"total\":61,\"tip\":55,\"payType\":\"cash\",\"Name\":\"Aziz\",\"Spent\":68,\"Year\":2014,\"x\":\"02:40:46.175\"}\n",
      "{\"qty\":2,\"total\":429,\"tip\":54,\"payType\":\"bitcoin\",\"Name\":\"Ben\",\"Spent\":123,\"Year\":2014,\"x\":\"02:40:46.675\"}\n",
      "{\"qty\":4,\"total\":30,\"tip\":17,\"payType\":\"mastercard\",\"Name\":\"Aziz\",\"Spent\":70,\"Year\":2016,\"x\":\"02:40:47.175\"}\n",
      "{\"qty\":2,\"total\":846,\"tip\":41,\"payType\":\"cash\",\"Name\":\"Jarrod\",\"Spent\":88,\"Year\":2016,\"x\":\"02:40:47.675\"}\n",
      "{\"qty\":4,\"total\":923,\"tip\":81,\"payType\":\"tab\",\"Name\":\"Jarrod\",\"Spent\":117,\"Year\":2015,\"x\":\"02:40:48.175\"}\n",
      "{\"qty\":2,\"total\":824,\"tip\":71,\"payType\":\"tab\",\"Name\":\"Vijay\",\"Spent\":13,\"Year\":2015,\"x\":\"02:40:48.675\"}\n",
      "{\"qty\":1,\"total\":328,\"tip\":74,\"payType\":\"visa\",\"Name\":\"Ben\",\"Spent\":4,\"Year\":2012,\"x\":\"02:40:49.174\"}\n",
      "{\"qty\":1,\"total\":968,\"tip\":56,\"payType\":\"visa\",\"Name\":\"Ben\",\"Spent\":104,\"Year\":2013,\"x\":\"02:40:49.675\"}\n",
      "{\"qty\":4,\"total\":712,\"tip\":55,\"payType\":\"cash\",\"Name\":\"Jarrod\",\"Spent\":122,\"Year\":2016,\"x\":\"02:40:50.175\"}\n",
      "{\"qty\":2,\"total\":965,\"tip\":20,\"payType\":\"tab\",\"Name\":\"Jarrod\",\"Spent\":124,\"Year\":2016,\"x\":\"02:40:50.675\"}\n"
     ]
    },
    {
     "ename": "KeyboardInterrupt",
     "evalue": "",
     "output_type": "error",
     "traceback": [
      "\u001b[1;31m---------------------------------------------------------------------------\u001b[0m",
      "\u001b[1;31mKeyboardInterrupt\u001b[0m                         Traceback (most recent call last)",
      "\u001b[1;32m<ipython-input-6-6372e0dfe9bf>\u001b[0m in \u001b[0;36m<module>\u001b[1;34m\u001b[0m\n\u001b[0;32m      6\u001b[0m             \u001b[0mprint\u001b[0m\u001b[1;33m(\u001b[0m\u001b[0mmessage\u001b[0m\u001b[1;33m)\u001b[0m\u001b[1;33m\u001b[0m\u001b[1;33m\u001b[0m\u001b[0m\n\u001b[0;32m      7\u001b[0m \u001b[1;33m\u001b[0m\u001b[0m\n\u001b[1;32m----> 8\u001b[1;33m \u001b[0masyncio\u001b[0m\u001b[1;33m.\u001b[0m\u001b[0mget_event_loop\u001b[0m\u001b[1;33m(\u001b[0m\u001b[1;33m)\u001b[0m\u001b[1;33m.\u001b[0m\u001b[0mrun_until_complete\u001b[0m\u001b[1;33m(\u001b[0m\u001b[0mconsumer_handler\u001b[0m\u001b[1;33m(\u001b[0m\u001b[1;33m)\u001b[0m\u001b[1;33m)\u001b[0m\u001b[1;33m\u001b[0m\u001b[1;33m\u001b[0m\u001b[0m\n\u001b[0m",
      "\u001b[1;32m~\\Anaconda3\\lib\\site-packages\\nest_asyncio.py\u001b[0m in \u001b[0;36mrun_until_complete\u001b[1;34m(self, future)\u001b[0m\n\u001b[0;32m     58\u001b[0m                 \u001b[0mf\u001b[0m\u001b[1;33m.\u001b[0m\u001b[0m_log_destroy_pending\u001b[0m \u001b[1;33m=\u001b[0m \u001b[1;32mFalse\u001b[0m\u001b[1;33m\u001b[0m\u001b[1;33m\u001b[0m\u001b[0m\n\u001b[0;32m     59\u001b[0m             \u001b[1;32mwhile\u001b[0m \u001b[1;32mnot\u001b[0m \u001b[0mf\u001b[0m\u001b[1;33m.\u001b[0m\u001b[0mdone\u001b[0m\u001b[1;33m(\u001b[0m\u001b[1;33m)\u001b[0m\u001b[1;33m:\u001b[0m\u001b[1;33m\u001b[0m\u001b[1;33m\u001b[0m\u001b[0m\n\u001b[1;32m---> 60\u001b[1;33m                 \u001b[0mrun_once\u001b[0m\u001b[1;33m(\u001b[0m\u001b[0mself\u001b[0m\u001b[1;33m)\u001b[0m\u001b[1;33m\u001b[0m\u001b[1;33m\u001b[0m\u001b[0m\n\u001b[0m\u001b[0;32m     61\u001b[0m             \u001b[1;32mreturn\u001b[0m \u001b[0mf\u001b[0m\u001b[1;33m.\u001b[0m\u001b[0mresult\u001b[0m\u001b[1;33m(\u001b[0m\u001b[1;33m)\u001b[0m\u001b[1;33m\u001b[0m\u001b[1;33m\u001b[0m\u001b[0m\n\u001b[0;32m     62\u001b[0m         \u001b[1;32melse\u001b[0m\u001b[1;33m:\u001b[0m\u001b[1;33m\u001b[0m\u001b[1;33m\u001b[0m\u001b[0m\n",
      "\u001b[1;32m~\\Anaconda3\\lib\\site-packages\\nest_asyncio.py\u001b[0m in \u001b[0;36mrun_once\u001b[1;34m(self)\u001b[0m\n\u001b[0;32m     87\u001b[0m             \u001b[0mtimeout\u001b[0m \u001b[1;33m=\u001b[0m \u001b[0mmax\u001b[0m\u001b[1;33m(\u001b[0m\u001b[1;36m0\u001b[0m\u001b[1;33m,\u001b[0m \u001b[0mwhen\u001b[0m \u001b[1;33m-\u001b[0m \u001b[0mself\u001b[0m\u001b[1;33m.\u001b[0m\u001b[0mtime\u001b[0m\u001b[1;33m(\u001b[0m\u001b[1;33m)\u001b[0m\u001b[1;33m)\u001b[0m\u001b[1;33m\u001b[0m\u001b[1;33m\u001b[0m\u001b[0m\n\u001b[0;32m     88\u001b[0m \u001b[1;33m\u001b[0m\u001b[0m\n\u001b[1;32m---> 89\u001b[1;33m         \u001b[0mevent_list\u001b[0m \u001b[1;33m=\u001b[0m \u001b[0mself\u001b[0m\u001b[1;33m.\u001b[0m\u001b[0m_selector\u001b[0m\u001b[1;33m.\u001b[0m\u001b[0mselect\u001b[0m\u001b[1;33m(\u001b[0m\u001b[0mtimeout\u001b[0m\u001b[1;33m)\u001b[0m\u001b[1;33m\u001b[0m\u001b[1;33m\u001b[0m\u001b[0m\n\u001b[0m\u001b[0;32m     90\u001b[0m         \u001b[0mself\u001b[0m\u001b[1;33m.\u001b[0m\u001b[0m_process_events\u001b[0m\u001b[1;33m(\u001b[0m\u001b[0mevent_list\u001b[0m\u001b[1;33m)\u001b[0m\u001b[1;33m\u001b[0m\u001b[1;33m\u001b[0m\u001b[0m\n\u001b[0;32m     91\u001b[0m \u001b[1;33m\u001b[0m\u001b[0m\n",
      "\u001b[1;32m~\\Anaconda3\\lib\\selectors.py\u001b[0m in \u001b[0;36mselect\u001b[1;34m(self, timeout)\u001b[0m\n\u001b[0;32m    321\u001b[0m         \u001b[0mready\u001b[0m \u001b[1;33m=\u001b[0m \u001b[1;33m[\u001b[0m\u001b[1;33m]\u001b[0m\u001b[1;33m\u001b[0m\u001b[1;33m\u001b[0m\u001b[0m\n\u001b[0;32m    322\u001b[0m         \u001b[1;32mtry\u001b[0m\u001b[1;33m:\u001b[0m\u001b[1;33m\u001b[0m\u001b[1;33m\u001b[0m\u001b[0m\n\u001b[1;32m--> 323\u001b[1;33m             \u001b[0mr\u001b[0m\u001b[1;33m,\u001b[0m \u001b[0mw\u001b[0m\u001b[1;33m,\u001b[0m \u001b[0m_\u001b[0m \u001b[1;33m=\u001b[0m \u001b[0mself\u001b[0m\u001b[1;33m.\u001b[0m\u001b[0m_select\u001b[0m\u001b[1;33m(\u001b[0m\u001b[0mself\u001b[0m\u001b[1;33m.\u001b[0m\u001b[0m_readers\u001b[0m\u001b[1;33m,\u001b[0m \u001b[0mself\u001b[0m\u001b[1;33m.\u001b[0m\u001b[0m_writers\u001b[0m\u001b[1;33m,\u001b[0m \u001b[1;33m[\u001b[0m\u001b[1;33m]\u001b[0m\u001b[1;33m,\u001b[0m \u001b[0mtimeout\u001b[0m\u001b[1;33m)\u001b[0m\u001b[1;33m\u001b[0m\u001b[1;33m\u001b[0m\u001b[0m\n\u001b[0m\u001b[0;32m    324\u001b[0m         \u001b[1;32mexcept\u001b[0m \u001b[0mInterruptedError\u001b[0m\u001b[1;33m:\u001b[0m\u001b[1;33m\u001b[0m\u001b[1;33m\u001b[0m\u001b[0m\n\u001b[0;32m    325\u001b[0m             \u001b[1;32mreturn\u001b[0m \u001b[0mready\u001b[0m\u001b[1;33m\u001b[0m\u001b[1;33m\u001b[0m\u001b[0m\n",
      "\u001b[1;32m~\\Anaconda3\\lib\\selectors.py\u001b[0m in \u001b[0;36m_select\u001b[1;34m(self, r, w, _, timeout)\u001b[0m\n\u001b[0;32m    312\u001b[0m     \u001b[1;32mif\u001b[0m \u001b[0msys\u001b[0m\u001b[1;33m.\u001b[0m\u001b[0mplatform\u001b[0m \u001b[1;33m==\u001b[0m \u001b[1;34m'win32'\u001b[0m\u001b[1;33m:\u001b[0m\u001b[1;33m\u001b[0m\u001b[1;33m\u001b[0m\u001b[0m\n\u001b[0;32m    313\u001b[0m         \u001b[1;32mdef\u001b[0m \u001b[0m_select\u001b[0m\u001b[1;33m(\u001b[0m\u001b[0mself\u001b[0m\u001b[1;33m,\u001b[0m \u001b[0mr\u001b[0m\u001b[1;33m,\u001b[0m \u001b[0mw\u001b[0m\u001b[1;33m,\u001b[0m \u001b[0m_\u001b[0m\u001b[1;33m,\u001b[0m \u001b[0mtimeout\u001b[0m\u001b[1;33m=\u001b[0m\u001b[1;32mNone\u001b[0m\u001b[1;33m)\u001b[0m\u001b[1;33m:\u001b[0m\u001b[1;33m\u001b[0m\u001b[1;33m\u001b[0m\u001b[0m\n\u001b[1;32m--> 314\u001b[1;33m             \u001b[0mr\u001b[0m\u001b[1;33m,\u001b[0m \u001b[0mw\u001b[0m\u001b[1;33m,\u001b[0m \u001b[0mx\u001b[0m \u001b[1;33m=\u001b[0m \u001b[0mselect\u001b[0m\u001b[1;33m.\u001b[0m\u001b[0mselect\u001b[0m\u001b[1;33m(\u001b[0m\u001b[0mr\u001b[0m\u001b[1;33m,\u001b[0m \u001b[0mw\u001b[0m\u001b[1;33m,\u001b[0m \u001b[0mw\u001b[0m\u001b[1;33m,\u001b[0m \u001b[0mtimeout\u001b[0m\u001b[1;33m)\u001b[0m\u001b[1;33m\u001b[0m\u001b[1;33m\u001b[0m\u001b[0m\n\u001b[0m\u001b[0;32m    315\u001b[0m             \u001b[1;32mreturn\u001b[0m \u001b[0mr\u001b[0m\u001b[1;33m,\u001b[0m \u001b[0mw\u001b[0m \u001b[1;33m+\u001b[0m \u001b[0mx\u001b[0m\u001b[1;33m,\u001b[0m \u001b[1;33m[\u001b[0m\u001b[1;33m]\u001b[0m\u001b[1;33m\u001b[0m\u001b[1;33m\u001b[0m\u001b[0m\n\u001b[0;32m    316\u001b[0m     \u001b[1;32melse\u001b[0m\u001b[1;33m:\u001b[0m\u001b[1;33m\u001b[0m\u001b[1;33m\u001b[0m\u001b[0m\n",
      "\u001b[1;31mKeyboardInterrupt\u001b[0m: "
     ]
    }
   ],
   "source": [
    "async def consumer_handler():\n",
    "    async with websockets.connect(\n",
    "            'ws://localhost:8001') as websocket:\n",
    "        while True:\n",
    "            message = await websocket.recv()\n",
    "            print(message)\n",
    "            \n",
    "asyncio.get_event_loop().run_until_complete(consumer_handler())"
   ]
  }
 ],
 "metadata": {
  "kernelspec": {
   "display_name": "Python 3",
   "language": "python",
   "name": "python3"
  },
  "language_info": {
   "codemirror_mode": {
    "name": "ipython",
    "version": 3
   },
   "file_extension": ".py",
   "mimetype": "text/x-python",
   "name": "python",
   "nbconvert_exporter": "python",
   "pygments_lexer": "ipython3",
   "version": "3.7.1"
  }
 },
 "nbformat": 4,
 "nbformat_minor": 2
}
